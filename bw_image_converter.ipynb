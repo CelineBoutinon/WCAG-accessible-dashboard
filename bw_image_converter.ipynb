{
 "cells": [
  {
   "cell_type": "code",
   "execution_count": 2,
   "id": "6cfc86b0-2ee6-415e-95cd-4787fe484cda",
   "metadata": {
    "tags": []
   },
   "outputs": [],
   "source": [
    "from PIL import Image\n",
    "\n",
    "# Open your original PNG image\n",
    "image = Image.open('bandeau.png')\n",
    "\n",
    "# Convert the image to grayscale ('L' mode)\n",
    "bw_image = image.convert('L')\n",
    "\n",
    "# Save the grayscale image as a new PNG\n",
    "bw_image.save('bandeau_bw.png')\n"
   ]
  },
  {
   "cell_type": "code",
   "execution_count": null,
   "id": "af3ac0fd-4a1c-4eec-a132-019334f137b3",
   "metadata": {},
   "outputs": [],
   "source": []
  }
 ],
 "metadata": {
  "kernelspec": {
   "display_name": "Python 3 (ipykernel)",
   "language": "python",
   "name": "python3"
  },
  "language_info": {
   "codemirror_mode": {
    "name": "ipython",
    "version": 3
   },
   "file_extension": ".py",
   "mimetype": "text/x-python",
   "name": "python",
   "nbconvert_exporter": "python",
   "pygments_lexer": "ipython3",
   "version": "3.9.13"
  }
 },
 "nbformat": 4,
 "nbformat_minor": 5
}
